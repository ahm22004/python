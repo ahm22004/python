{
 "cells": [
  {
   "cell_type": "code",
   "execution_count": 1,
   "metadata": {},
   "outputs": [
    {
     "data": {
      "text/plain": [
       "16540"
      ]
     },
     "execution_count": 1,
     "metadata": {},
     "output_type": "execute_result"
    }
   ],
   "source": [
    "import requests\n",
    "resp = requests.get('http://www.google.com')\n",
    "len(resp.text)"
   ]
  },
  {
   "cell_type": "code",
   "execution_count": 2,
   "metadata": {},
   "outputs": [
    {
     "data": {
      "text/plain": [
       "'Feb 29 2020'"
      ]
     },
     "execution_count": 2,
     "metadata": {},
     "output_type": "execute_result"
    }
   ],
   "source": [
    "import arrow\n",
    "date = arrow.get(' 2020-01-18', 'YYYY-MM-DD')\n",
    "date.shift(weeks=+6).format('MMM DD YYYY')"
   ]
  },
  {
   "cell_type": "code",
   "execution_count": 2,
   "metadata": {},
   "outputs": [],
   "source": [
    "import psutil\n",
    "import shutil"
   ]
  },
  {
   "cell_type": "code",
   "execution_count": 1,
   "metadata": {},
   "outputs": [],
   "source": [
    "class Repository:\n",
    "    def __init__(self):\n",
    "        self.packages = {}\n",
    "\n",
    "    def add_package(self, package):\n",
    "        self.packages[package.name] = package\n",
    "\n",
    "    def total_size(self):\n",
    "        result = 0\n",
    "        for package in self,package.values():\n",
    "            result += package.size\n",
    "        return result"
   ]
  },
  {
   "cell_type": "code",
   "execution_count": 2,
   "metadata": {},
   "outputs": [],
   "source": [
    "import csv\n",
    "import re"
   ]
  },
  {
   "cell_type": "code",
   "execution_count": 4,
   "metadata": {},
   "outputs": [
    {
     "name": "stdout",
     "output_type": "stream",
     "text": [
      "<re.Match object; span=(14, 18), match='hway'>\n"
     ]
    }
   ],
   "source": [
    "print (re.search(r'[a-z]way', 'The end of highway'))"
   ]
  }
 ],
 "metadata": {
  "interpreter": {
   "hash": "b872ac7de5fca3a5420d01e53df10c44aa1d8c9e6194de55071935c6ef55fdcf"
  },
  "kernelspec": {
   "display_name": "Python 3.9.1 64-bit",
   "language": "python",
   "name": "python3"
  },
  "language_info": {
   "codemirror_mode": {
    "name": "ipython",
    "version": 3
   },
   "file_extension": ".py",
   "mimetype": "text/x-python",
   "name": "python",
   "nbconvert_exporter": "python",
   "pygments_lexer": "ipython3",
   "version": "3.9.1"
  },
  "orig_nbformat": 4
 },
 "nbformat": 4,
 "nbformat_minor": 2
}
