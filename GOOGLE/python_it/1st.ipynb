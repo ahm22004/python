{
 "metadata": {
  "language_info": {
   "codemirror_mode": {
    "name": "ipython",
    "version": 3
   },
   "file_extension": ".py",
   "mimetype": "text/x-python",
   "name": "python",
   "nbconvert_exporter": "python",
   "pygments_lexer": "ipython3",
   "version": "3.9.1"
  },
  "orig_nbformat": 2,
  "kernelspec": {
   "name": "python3",
   "display_name": "Python 3.9.1 64-bit"
  },
  "interpreter": {
   "hash": "b872ac7de5fca3a5420d01e53df10c44aa1d8c9e6194de55071935c6ef55fdcf"
  }
 },
 "nbformat": 4,
 "nbformat_minor": 2,
 "cells": [
  {
   "cell_type": "code",
   "execution_count": 2,
   "metadata": {},
   "outputs": [],
   "source": [
    "def get_event_date ( event ) :\n",
    "    return event.date\n",
    "\n",
    "def current_users ( events ) :\n",
    "    events.sort( key = get_event_date)\n",
    "    machines = {}\n",
    "    for event in events :\n",
    "        if event.machine not in machines :\n",
    "            machines[event.machine] = set()\n",
    "        if event.type == 'login' :\n",
    "            machines[event.machine].add (event.user)\n",
    "        elif event.type == 'logout' :\n",
    "            machines[event.machines].remove( event.user)\n",
    "    return machines\n",
    "\n",
    "def generate_report (machines) :\n",
    "    for machine , users in machines.items() :\n",
    "        if len ( users ) > 0 :\n",
    "            user_list = ' , '.join(users)\n",
    "            print( ' {}, {} '.format( machine, user_list))"
   ]
  },
  {
   "cell_type": "code",
   "execution_count": 3,
   "metadata": {},
   "outputs": [],
   "source": [
    "class Event :\n",
    "    def __init__(self, event_date, event_type, machine_name, user) :\n",
    "        self.date = event_date\n",
    "        self.type = event_type\n",
    "        self.machine = machine_name\n",
    "        self.user = user"
   ]
  },
  {
   "cell_type": "code",
   "execution_count": 5,
   "metadata": {},
   "outputs": [],
   "source": [
    "events = []"
   ]
  },
  {
   "cell_type": "code",
   "execution_count": 6,
   "metadata": {},
   "outputs": [
    {
     "output_type": "stream",
     "name": "stdout",
     "text": [
      "{}\n"
     ]
    }
   ],
   "source": [
    "users = current_users(events)\n",
    "print ( users)"
   ]
  },
  {
   "cell_type": "code",
   "execution_count": 7,
   "metadata": {},
   "outputs": [],
   "source": [
    "generate_report(users)"
   ]
  }
 ]
}